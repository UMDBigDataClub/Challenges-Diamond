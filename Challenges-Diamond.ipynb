{
 "cells": [
  {
   "cell_type": "markdown",
   "metadata": {},
   "source": [
    "<img src=\"diamond.png\" alt=\"diamond\" width=\"200\"/>\n",
    "\n",
    "# The Diamond Challenge #\n",
    "\n",
    "Congratulations! You've just been hired by a prestigious diamond retailer as their lead data analyst. In this challenge, you will put your data analysis skills to the test by uncovering insights about the diamond market. \n",
    "\n",
    "\n",
    "This notebook contains a number of questions to answer, ordered by difficulty (easiest first). Below the question cell, answer the question by using Python code to manipulate and query the data. Some of the earlier questions have code to get you started. If you are already proficient in Python, feel free to skip to the later questions.\n",
    "\n",
    "Data source: https://www.kaggle.com/shivam2503/diamonds. You might need this to understand some of the attributes in the data set.\n",
    "\n",
    "Packages used in this challenge: **pandas**, **seaborn**, **sklearn**\n",
    "\n",
    "*If using Anaconda package manager, use* **conda install *packagename** to install these packages*"
   ]
  },
  {
   "cell_type": "markdown",
   "metadata": {},
   "source": [
    "### Challenge #1: Analyzing cuts ###\n",
    "\n",
    "For the first challenge, your boss wants to know the answers to the following questions:\n",
    "- How many diamonds of each type of cut are there? \n",
    "- How much do they cost on average? \n",
    "\n",
    "We've included some starter code to read in the data for you."
   ]
  },
  {
   "cell_type": "code",
   "execution_count": 8,
   "metadata": {},
   "outputs": [
    {
     "data": {
      "text/html": [
       "<div>\n",
       "<style scoped>\n",
       "    .dataframe tbody tr th:only-of-type {\n",
       "        vertical-align: middle;\n",
       "    }\n",
       "\n",
       "    .dataframe tbody tr th {\n",
       "        vertical-align: top;\n",
       "    }\n",
       "\n",
       "    .dataframe thead th {\n",
       "        text-align: right;\n",
       "    }\n",
       "</style>\n",
       "<table border=\"1\" class=\"dataframe\">\n",
       "  <thead>\n",
       "    <tr style=\"text-align: right;\">\n",
       "      <th></th>\n",
       "      <th>Unnamed: 0</th>\n",
       "      <th>carat</th>\n",
       "      <th>cut</th>\n",
       "      <th>color</th>\n",
       "      <th>clarity</th>\n",
       "      <th>depth</th>\n",
       "      <th>table</th>\n",
       "      <th>price</th>\n",
       "      <th>x</th>\n",
       "      <th>y</th>\n",
       "      <th>z</th>\n",
       "    </tr>\n",
       "  </thead>\n",
       "  <tbody>\n",
       "    <tr>\n",
       "      <th>0</th>\n",
       "      <td>1</td>\n",
       "      <td>0.23</td>\n",
       "      <td>Ideal</td>\n",
       "      <td>E</td>\n",
       "      <td>SI2</td>\n",
       "      <td>61.5</td>\n",
       "      <td>55.0</td>\n",
       "      <td>326</td>\n",
       "      <td>3.95</td>\n",
       "      <td>3.98</td>\n",
       "      <td>2.43</td>\n",
       "    </tr>\n",
       "    <tr>\n",
       "      <th>1</th>\n",
       "      <td>2</td>\n",
       "      <td>0.21</td>\n",
       "      <td>Premium</td>\n",
       "      <td>E</td>\n",
       "      <td>SI1</td>\n",
       "      <td>59.8</td>\n",
       "      <td>61.0</td>\n",
       "      <td>326</td>\n",
       "      <td>3.89</td>\n",
       "      <td>3.84</td>\n",
       "      <td>2.31</td>\n",
       "    </tr>\n",
       "    <tr>\n",
       "      <th>2</th>\n",
       "      <td>3</td>\n",
       "      <td>0.23</td>\n",
       "      <td>Good</td>\n",
       "      <td>E</td>\n",
       "      <td>VS1</td>\n",
       "      <td>56.9</td>\n",
       "      <td>65.0</td>\n",
       "      <td>327</td>\n",
       "      <td>4.05</td>\n",
       "      <td>4.07</td>\n",
       "      <td>2.31</td>\n",
       "    </tr>\n",
       "    <tr>\n",
       "      <th>3</th>\n",
       "      <td>4</td>\n",
       "      <td>0.29</td>\n",
       "      <td>Premium</td>\n",
       "      <td>I</td>\n",
       "      <td>VS2</td>\n",
       "      <td>62.4</td>\n",
       "      <td>58.0</td>\n",
       "      <td>334</td>\n",
       "      <td>4.20</td>\n",
       "      <td>4.23</td>\n",
       "      <td>2.63</td>\n",
       "    </tr>\n",
       "    <tr>\n",
       "      <th>4</th>\n",
       "      <td>5</td>\n",
       "      <td>0.31</td>\n",
       "      <td>Good</td>\n",
       "      <td>J</td>\n",
       "      <td>SI2</td>\n",
       "      <td>63.3</td>\n",
       "      <td>58.0</td>\n",
       "      <td>335</td>\n",
       "      <td>4.34</td>\n",
       "      <td>4.35</td>\n",
       "      <td>2.75</td>\n",
       "    </tr>\n",
       "  </tbody>\n",
       "</table>\n",
       "</div>"
      ],
      "text/plain": [
       "   Unnamed: 0  carat      cut color clarity  depth  table  price     x     y  \\\n",
       "0           1   0.23    Ideal     E     SI2   61.5   55.0    326  3.95  3.98   \n",
       "1           2   0.21  Premium     E     SI1   59.8   61.0    326  3.89  3.84   \n",
       "2           3   0.23     Good     E     VS1   56.9   65.0    327  4.05  4.07   \n",
       "3           4   0.29  Premium     I     VS2   62.4   58.0    334  4.20  4.23   \n",
       "4           5   0.31     Good     J     SI2   63.3   58.0    335  4.34  4.35   \n",
       "\n",
       "      z  \n",
       "0  2.43  \n",
       "1  2.31  \n",
       "2  2.31  \n",
       "3  2.63  \n",
       "4  2.75  "
      ]
     },
     "execution_count": 8,
     "metadata": {},
     "output_type": "execute_result"
    }
   ],
   "source": [
    "#Import your important data science libraries!\n",
    "\n",
    "import pandas as pd\n",
    "\n",
    "#Then, import the data and view what the entries look like.\n",
    "\n",
    "df = pd.read_csv(\"data/diamonds.csv\")\n",
    "\n",
    "df.head()"
   ]
  },
  {
   "cell_type": "code",
   "execution_count": 9,
   "metadata": {},
   "outputs": [],
   "source": [
    "#It looks like the first column is not needed, so we can clean up the dataset by dropping this column. \n",
    "df.drop(\"Unnamed: 0\", axis = 1, inplace = True)"
   ]
  },
  {
   "cell_type": "markdown",
   "metadata": {},
   "source": [
    "How can you summarize the number of each cut and average price by cut?\n",
    "\n",
    "HINT: The pandas documentation, found at https://pandas.pydata.org/pandas-docs/stable/reference/, will be your friend. \n",
    "You want to analyze your data by counting certain groups."
   ]
  },
  {
   "cell_type": "code",
   "execution_count": null,
   "metadata": {},
   "outputs": [],
   "source": []
  },
  {
   "cell_type": "markdown",
   "metadata": {},
   "source": [
    "### Challenge #2: Summary statistics for color, clarity, and cut ###\n",
    "\n",
    "Now, the leadership at the company wants to get a general idea of what the diamond stock looks like. The attributes cut, color, and clarity are categorically ordered variables - this means that they are represented by discrete values that can be ordered from highest (best quality) to lowest (worst quality) or vice versa. Can you turn these variables from strings to numbers, and generate summary statistics for these variables?"
   ]
  },
  {
   "cell_type": "code",
   "execution_count": null,
   "metadata": {},
   "outputs": [],
   "source": []
  },
  {
   "cell_type": "markdown",
   "metadata": {},
   "source": [
    "### Challenge #3: Carat Distribution ###\n",
    "\n",
    "The term \"carat\" refers to the weight of the diamond. Can you create a data visualization that shows how the weights of the diamonds in the dataset are distributed, to give your company leadership a more precise look at this highly-advertised variable?\n",
    "\n",
    "HINT: Seaborn (https://seaborn.pydata.org/) is a useful tool for visualizations in Python. This type of visualization is referred to as a \"histogram.\" "
   ]
  },
  {
   "cell_type": "code",
   "execution_count": 12,
   "metadata": {},
   "outputs": [],
   "source": [
    "#Import the data visualization package\n",
    "import seaborn as sns\n"
   ]
  },
  {
   "cell_type": "markdown",
   "metadata": {},
   "source": [
    "### Challenge #4: Give me ALL of the diamonds! ###\n",
    "\n",
    "The board of directors got a taste of your visualization skills, and they want more. The board has requested a visualization that includes EVERY attribute in the dataset, with the size attributes (x, y, z, depth, table) summarized into one. Engineer a single feature to describe the size of the diamond, and create a visualization of all of the attributes in the dataset"
   ]
  },
  {
   "cell_type": "code",
   "execution_count": null,
   "metadata": {},
   "outputs": [],
   "source": []
  },
  {
   "cell_type": "markdown",
   "metadata": {},
   "source": [
    "### Challenge #5: Pricing the diamonds ###\n",
    "\n",
    "There is good news and bad news. The good news: on account of your great skill in data analysis, you've been promoted to CEO (Chief Executive Officer)! The bad news: the previous CEO mismanaged the company so badly that the entire staff of professional diamond appraisers has been laid off, and no one wants to work for your company. Obviously, he was fired. \n",
    "\n",
    "For this challenge,  you'll need to develop a low-cost, labor-free solution to this debacle. Train a machine learning algorithm to estimate the price of diamond based on its weight (carat), cut, color, clarity, and size (depth, table, x, y, z). \n",
    "\n",
    "HINT: Sci-kit Learn is a Python package that provides machine learning algorithms that you can train on your data set. You may find the documentation helpful: https://scikit-learn.org/stable/"
   ]
  },
  {
   "cell_type": "code",
   "execution_count": null,
   "metadata": {},
   "outputs": [],
   "source": []
  },
  {
   "cell_type": "markdown",
   "metadata": {},
   "source": [
    "### Challenge #6: Automation Hits the Diamond Market! ###\n",
    "\n",
    "After you successfully deployed your automated diamond pricing system, your competitors caught on and have developed their own algorithms to price diamonds. As a result, the diamond wholesaler (which sells the diamonds to you) has created an online bidding system to sell their diamonds. \n",
    "\n",
    "To be able to snatch up diamonds before your competitors do, and ensure you get the best prices, you must build a bot that purchases diamonds at the lowest possible price based on the characteristics of each diamond that is put up for auction. Keep in mind that if your bot overvalues the diamond and buys at that price, you will lose money! However, if your bot undervalues the diamond, it will lose out to other, more accurate bots."
   ]
  },
  {
   "cell_type": "code",
   "execution_count": null,
   "metadata": {},
   "outputs": [],
   "source": []
  }
 ],
 "metadata": {
  "kernelspec": {
   "display_name": "Python 3",
   "language": "python",
   "name": "python3"
  },
  "language_info": {
   "codemirror_mode": {
    "name": "ipython",
    "version": 3
   },
   "file_extension": ".py",
   "mimetype": "text/x-python",
   "name": "python",
   "nbconvert_exporter": "python",
   "pygments_lexer": "ipython3",
   "version": "3.6.5"
  }
 },
 "nbformat": 4,
 "nbformat_minor": 4
}
